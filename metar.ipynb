{
 "cells": [
  {
   "cell_type": "code",
   "execution_count": 2,
   "metadata": {},
   "outputs": [],
   "source": [
    "import numpy as np\n",
    "import pandas as pd\n",
    "\n",
    "from metar_taf_parser.parser.parser import MetarParser\n",
    "\n",
    "import requests\n",
    "from datetime import datetime, timedelta\n",
    "\n"
   ]
  },
  {
   "cell_type": "code",
   "execution_count": 41,
   "metadata": {},
   "outputs": [],
   "source": [
    "messages = [\n",
    "    \"LFPG 052000Z VRB02KT 9999 FEW033 OVC046 05/01 Q1013 NOSIG\",\n",
    "    \"EHAM 051955Z 23006KT 9999 FEW013 FEW024TCU BKN045 02/01 Q1011 TEMPO -SHRA\",\n",
    "    \"KSEA 051953Z 02006KT 10SM FEW020 SCT060 BKN230 07/M01 A2972 RMK AO2 SLP071 T00721006 $\",\n",
    "    \"KATL 051952Z VRB04KT 10SM CLR 22/04 A3016 RMK AO2 SLP209 T02170044 $\",\n",
    "    \"KORD 051951Z 08009KT 10SM FEW200 BKN250 09/M02 A3021 RMK AO2 SLP234 T00941017\",\n",
    "    \"EGLL 051950Z AUTO 28006KT 9999 FEW025 BKN038 OVC046 04/M00 Q1013\",\n",
    "]\n"
   ]
  },
  {
   "cell_type": "code",
   "execution_count": 1,
   "metadata": {},
   "outputs": [],
   "source": []
  },
  {
   "cell_type": "code",
   "execution_count": 5,
   "metadata": {},
   "outputs": [],
   "source": []
  },
  {
   "cell_type": "code",
   "execution_count": 47,
   "metadata": {},
   "outputs": [],
   "source": [
    "results = []\n",
    "for msg in messages:\n",
    "    metar = MetarParser().parse(msg)\n",
    "\n",
    "    results.append(\n",
    "        dict(\n",
    "            icao=metar.station,\n",
    "            day=metar.day,\n",
    "            time=metar.time,\n",
    "            wind_speed=metar.wind.speed,\n",
    "            wind_gust=metar.wind.gust if metar.wind.gust else 0,\n",
    "            temperature=metar.temperature,\n",
    "            dew_point=metar.dew_point,\n",
    "        )\n",
    "    )\n",
    "\n",
    "    # cloud = {}\n",
    "    # for cloud in metar.clouds:\n",
    "    #     cloud.quantity.name\n",
    "    #     cloud.height\n"
   ]
  },
  {
   "cell_type": "code",
   "execution_count": 48,
   "metadata": {},
   "outputs": [
    {
     "data": {
      "text/html": [
       "<div>\n",
       "<style scoped>\n",
       "    .dataframe tbody tr th:only-of-type {\n",
       "        vertical-align: middle;\n",
       "    }\n",
       "\n",
       "    .dataframe tbody tr th {\n",
       "        vertical-align: top;\n",
       "    }\n",
       "\n",
       "    .dataframe thead th {\n",
       "        text-align: right;\n",
       "    }\n",
       "</style>\n",
       "<table border=\"1\" class=\"dataframe\">\n",
       "  <thead>\n",
       "    <tr style=\"text-align: right;\">\n",
       "      <th></th>\n",
       "      <th>icao</th>\n",
       "      <th>day</th>\n",
       "      <th>time</th>\n",
       "      <th>wind_speed</th>\n",
       "      <th>wind_gust</th>\n",
       "      <th>temperature</th>\n",
       "      <th>dew_point</th>\n",
       "    </tr>\n",
       "  </thead>\n",
       "  <tbody>\n",
       "    <tr>\n",
       "      <th>0</th>\n",
       "      <td>LFPG</td>\n",
       "      <td>5</td>\n",
       "      <td>20:00:00</td>\n",
       "      <td>2</td>\n",
       "      <td>0</td>\n",
       "      <td>5</td>\n",
       "      <td>1</td>\n",
       "    </tr>\n",
       "    <tr>\n",
       "      <th>1</th>\n",
       "      <td>EHAM</td>\n",
       "      <td>5</td>\n",
       "      <td>19:55:00</td>\n",
       "      <td>6</td>\n",
       "      <td>0</td>\n",
       "      <td>2</td>\n",
       "      <td>1</td>\n",
       "    </tr>\n",
       "    <tr>\n",
       "      <th>2</th>\n",
       "      <td>KSEA</td>\n",
       "      <td>5</td>\n",
       "      <td>19:53:00</td>\n",
       "      <td>6</td>\n",
       "      <td>0</td>\n",
       "      <td>7</td>\n",
       "      <td>-1</td>\n",
       "    </tr>\n",
       "    <tr>\n",
       "      <th>3</th>\n",
       "      <td>KATL</td>\n",
       "      <td>5</td>\n",
       "      <td>19:52:00</td>\n",
       "      <td>4</td>\n",
       "      <td>0</td>\n",
       "      <td>22</td>\n",
       "      <td>4</td>\n",
       "    </tr>\n",
       "    <tr>\n",
       "      <th>4</th>\n",
       "      <td>KORD</td>\n",
       "      <td>5</td>\n",
       "      <td>19:51:00</td>\n",
       "      <td>9</td>\n",
       "      <td>0</td>\n",
       "      <td>9</td>\n",
       "      <td>-2</td>\n",
       "    </tr>\n",
       "    <tr>\n",
       "      <th>5</th>\n",
       "      <td>EGLL</td>\n",
       "      <td>5</td>\n",
       "      <td>19:50:00</td>\n",
       "      <td>6</td>\n",
       "      <td>0</td>\n",
       "      <td>4</td>\n",
       "      <td>0</td>\n",
       "    </tr>\n",
       "  </tbody>\n",
       "</table>\n",
       "</div>"
      ],
      "text/plain": [
       "   icao  day      time  wind_speed  wind_gust  temperature  dew_point\n",
       "0  LFPG    5  20:00:00           2          0            5          1\n",
       "1  EHAM    5  19:55:00           6          0            2          1\n",
       "2  KSEA    5  19:53:00           6          0            7         -1\n",
       "3  KATL    5  19:52:00           4          0           22          4\n",
       "4  KORD    5  19:51:00           9          0            9         -2\n",
       "5  EGLL    5  19:50:00           6          0            4          0"
      ]
     },
     "execution_count": 48,
     "metadata": {},
     "output_type": "execute_result"
    }
   ],
   "source": [
    "pd.DataFrame.from_dict(results)"
   ]
  },
  {
   "cell_type": "code",
   "execution_count": 50,
   "metadata": {},
   "outputs": [
    {
     "ename": "NameError",
     "evalue": "name 'datetime' is not defined",
     "output_type": "error",
     "traceback": [
      "\u001b[0;31m---------------------------------------------------------------------------\u001b[0m",
      "\u001b[0;31mNameError\u001b[0m                                 Traceback (most recent call last)",
      "Cell \u001b[0;32mIn[50], line 4\u001b[0m\n\u001b[1;32m      1\u001b[0m metar_df \u001b[39m=\u001b[39m pd\u001b[39m.\u001b[39mDataFrame()\n\u001b[1;32m      3\u001b[0m \u001b[39m# Loop through each date in the date range\u001b[39;00m\n\u001b[0;32m----> 4\u001b[0m start_dt \u001b[39m=\u001b[39m datetime(\u001b[39m2018\u001b[39m, \u001b[39m1\u001b[39m, \u001b[39m1\u001b[39m)\n\u001b[1;32m      5\u001b[0m end_dt \u001b[39m=\u001b[39m datetime(\u001b[39m2018\u001b[39m, \u001b[39m1\u001b[39m, \u001b[39m10\u001b[39m)\n\u001b[1;32m      6\u001b[0m delta \u001b[39m=\u001b[39m timedelta(days\u001b[39m=\u001b[39m\u001b[39m1\u001b[39m)\n",
      "\u001b[0;31mNameError\u001b[0m: name 'datetime' is not defined"
     ]
    }
   ],
   "source": [
    "metar_df = pd.DataFrame()\n",
    "\n",
    "# Loop through each date in the date range\n",
    "start_dt = datetime(2018, 1, 1)\n",
    "end_dt = datetime(2018, 1, 10)\n",
    "delta = timedelta(days=1)\n",
    "\n",
    "while start_dt <= end_dt:\n",
    "    date_str = start_dt.strftime(\"%Y%m%d\")\n",
    "\n",
    "    # Loop through each airport code and retrieve the METAR data\n",
    "    for airport_code in airport_list:\n",
    "        url = f\"https://aviationweather.gov/metar/data?ids={airport_code}&format=raw&date={date_str}&hours=00&mostRecent=true\"\n",
    "        response = requests.get(url)\n",
    "        metar_list = response.text.split(\"\\n\")\n",
    "\n",
    "        # Decode the METAR data and add it to the DataFrame\n",
    "        # metar_df = pd.concat([metar_df, decode_metar_vectorized(metar_list)])\n",
    "        metar_df = decode_metar_vectorized(metar_list)\n",
    "        print(metar_df)\n",
    "\n",
    "    # Increment the date by one day\n",
    "    start_dt += delta\n",
    "\n",
    "return metar_df\n"
   ]
  }
 ],
 "metadata": {
  "kernelspec": {
   "display_name": "atdelay",
   "language": "python",
   "name": "python3"
  },
  "language_info": {
   "codemirror_mode": {
    "name": "ipython",
    "version": 3
   },
   "file_extension": ".py",
   "mimetype": "text/x-python",
   "name": "python",
   "nbconvert_exporter": "python",
   "pygments_lexer": "ipython3",
   "version": "3.10.9"
  },
  "orig_nbformat": 4
 },
 "nbformat": 4,
 "nbformat_minor": 2
}
